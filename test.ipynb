{
 "cells": [
  {
   "cell_type": "code",
   "execution_count": null,
   "metadata": {},
   "outputs": [],
   "source": [
    "# import libraries\n",
    "\n",
    "import pandas as pd\n",
    "import matplotlib.pyplot as plt\n",
    "import numpy as np\n",
    "import os"
   ]
  },
  {
   "cell_type": "code",
   "execution_count": null,
   "metadata": {},
   "outputs": [],
   "source": [
    "# functions\n",
    "\n",
    "def value(d, val):\n",
    "    keys = [k for k, v in d.items() if v == val]\n",
    "    ans = 0\n",
    "    if keys:\n",
    "        ans = keys[0]\n",
    "    else:\n",
    "        ans = None\n",
    "    return ans"
   ]
  },
  {
   "cell_type": "code",
   "execution_count": null,
   "metadata": {},
   "outputs": [],
   "source": [
    "# static variables\n",
    "\n",
    "labels = {'e06_':0, 'e07_':1,'e11_':2,'e25_':3,'F01_':4,'F07_':5,'hm01':6,'m01_':7,'m12_':8,'p03_':9,'p07_':10,'s06_':11,'s11a':12,'v13_':13,'XPA2':14,'xpb_':15}\n",
    "\n",
    "df = pd.read_csv('data/imgData.csv')\n",
    "df = df.sample(frac = 1)\n",
    "dat = df.iloc[0:500,1:401].to_numpy().tolist()\n",
    "label = df.iloc[0:500,0:401].to_numpy().tolist()"
   ]
  },
  {
   "cell_type": "code",
   "execution_count": null,
   "metadata": {},
   "outputs": [],
   "source": [
    "# processed spectrograms fed into CNN for each class\n",
    "\n",
    "labNames = list(labels.values())\n",
    "counts = 0\n",
    "for i in label:\n",
    "    for j in labNames:\n",
    "        if int(i[0]) == int(j):\n",
    "            labNames.remove(int(i[0]))\n",
    "            index = label.index(i)\n",
    "            X = np.array(dat[index])\n",
    "            plt.subplot(4, 4, counts+1)\n",
    "            plt.imshow(X.reshape((20,20)), interpolation='nearest')\n",
    "            #value(labels,int(i[0]))\n",
    "            plt.title('Label:{label}'.format(label=value(labels,int(i[0]))))\n",
    "            counts += 1\n",
    "\n",
    "plt.tight_layout()\n",
    "plt.show()"
   ]
  },
  {
   "cell_type": "code",
   "execution_count": null,
   "metadata": {},
   "outputs": [],
   "source": [
    "df = pd.read_csv('data/valData.csv')\n",
    "df.head()"
   ]
  },
  {
   "cell_type": "code",
   "execution_count": null,
   "metadata": {},
   "outputs": [],
   "source": []
  }
 ],
 "metadata": {
  "kernelspec": {
   "display_name": "base",
   "language": "python",
   "name": "python3"
  },
  "language_info": {
   "codemirror_mode": {
    "name": "ipython",
    "version": 3
   },
   "file_extension": ".py",
   "mimetype": "text/x-python",
   "name": "python",
   "nbconvert_exporter": "python",
   "pygments_lexer": "ipython3",
   "version": "3.9.13"
  },
  "orig_nbformat": 4
 },
 "nbformat": 4,
 "nbformat_minor": 2
}
